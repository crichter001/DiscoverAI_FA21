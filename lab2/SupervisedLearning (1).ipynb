{
    "metadata": {
        "kernelspec": {
            "name": "python3",
            "display_name": "Python 3 (ipykernel)",
            "language": "python"
        }
    },
    "nbformat": 4,
    "nbformat_minor": 2,
    "cells": [
        {
            "attachments": {},
            "cell_type": "markdown",
            "metadata": {},
            "source": [
                "This code is an introduction to supervised learning solving a classification problem using **decision trees**.\n",
                "It follows [this tutorial](https://youtu.be/7eh4d6sabA0). "
            ]
        },
        {
            "attachments": {},
            "cell_type": "markdown",
            "metadata": {},
            "source": [
                "# **Classification Problem**\n",
                "We will follow these steps of solving a machine learning problem.\n",
                "\n",
                "\n",
                "1. Import the Data\n",
                "2. Clean the Data\n",
                "3. split the Data into Training/ Test steps\n",
                "4. Create a Model\n",
                "5. Train the Model\n",
                "6. Make Predictions\n",
                "7. Evaluate and improve\n",
                ""
            ]
        },
        {
            "attachments": {},
            "cell_type": "markdown",
            "metadata": {},
            "source": [
                "# Problem description\n",
                "Enter in the text cell below what you will be predicting in this classification problem (y) and which columns will be used in the prediction (X)"
            ]
        },
        {
            "attachments": {},
            "cell_type": "markdown",
            "metadata": {},
            "source": [
                ""
            ]
        },
        {
            "cell_type": "code",
            "execution_count": 147,
            "metadata": {},
            "outputs": [],
            "source": [
                "import pandas as pd\n",
                "from sklearn.tree import DecisionTreeClassifier\n",
                "from sklearn.model_selection import train_test_split\n",
                "from sklearn.metrics import accuracy_score\n",
                "import joblib\n",
                "from sklearn import tree"
            ]
        },
        {
            "attachments": {},
            "cell_type": "markdown",
            "metadata": {},
            "source": [
                "1. Import the Data."
            ]
        },
        {
            "cell_type": "code",
            "execution_count": 148,
            "metadata": {},
            "outputs": [],
            "source": [
                "df = pd.read_csv('albums.csv')"
            ]
        },
        {
            "attachments": {},
            "cell_type": "markdown",
            "metadata": {},
            "source": [
                "2. Display columns and describe the data set"
            ]
        },
        {
            "cell_type": "code",
            "execution_count": 149,
            "metadata": {},
            "outputs": [
                {
                    "name": "stdout",
                    "output_type": "stream",
                    "text": "\u003cclass 'pandas.core.frame.DataFrame'\u003e\nRangeIndex: 100000 entries, 0 to 99999\nData columns (total 10 columns):\n #   Column                Non-Null Count   Dtype  \n---  ------                --------------   -----  \n 0   id                    100000 non-null  int64  \n 1   artist_id             100000 non-null  int64  \n 2   album_title           100000 non-null  object \n 3   genre                 100000 non-null  object \n 4   year_of_pub           100000 non-null  int64  \n 5   num_of_tracks         100000 non-null  int64  \n 6   num_of_sales          100000 non-null  int64  \n 7   rolling_stone_critic  100000 non-null  float64\n 8   mtv_critic            100000 non-null  float64\n 9   music_maniac_critic   100000 non-null  float64\ndtypes: float64(3), int64(5), object(2)\nmemory usage: 7.6+ MB\n"
                }
            ],
            "source": [
                "df.info()"
            ]
        },
        {
            "cell_type": "code",
            "execution_count": 150,
            "metadata": {},
            "outputs": [
                {
                    "data": {
                        "text/html": "\u003cdiv\u003e\n\u003cstyle scoped\u003e\n    .dataframe tbody tr th:only-of-type {\n        vertical-align: middle;\n    }\n\n    .dataframe tbody tr th {\n        vertical-align: top;\n    }\n\n    .dataframe thead th {\n        text-align: right;\n    }\n\u003c/style\u003e\n\u003ctable border=\"1\" class=\"dataframe\"\u003e\n  \u003cthead\u003e\n    \u003ctr style=\"text-align: right;\"\u003e\n      \u003cth\u003e\u003c/th\u003e\n      \u003cth\u003eid\u003c/th\u003e\n      \u003cth\u003eartist_id\u003c/th\u003e\n      \u003cth\u003eyear_of_pub\u003c/th\u003e\n      \u003cth\u003enum_of_tracks\u003c/th\u003e\n      \u003cth\u003enum_of_sales\u003c/th\u003e\n      \u003cth\u003erolling_stone_critic\u003c/th\u003e\n      \u003cth\u003emtv_critic\u003c/th\u003e\n      \u003cth\u003emusic_maniac_critic\u003c/th\u003e\n    \u003c/tr\u003e\n  \u003c/thead\u003e\n  \u003ctbody\u003e\n    \u003ctr\u003e\n      \u003cth\u003ecount\u003c/th\u003e\n      \u003ctd\u003e100000.000000\u003c/td\u003e\n      \u003ctd\u003e100000.000000\u003c/td\u003e\n      \u003ctd\u003e100000.000000\u003c/td\u003e\n      \u003ctd\u003e100000.00000\u003c/td\u003e\n      \u003ctd\u003e100000.00000\u003c/td\u003e\n      \u003ctd\u003e100000.000000\u003c/td\u003e\n      \u003ctd\u003e100000.000000\u003c/td\u003e\n      \u003ctd\u003e100000.000000\u003c/td\u003e\n    \u003c/tr\u003e\n    \u003ctr\u003e\n      \u003cth\u003emean\u003c/th\u003e\n      \u003ctd\u003e50000.500000\u003c/td\u003e\n      \u003ctd\u003e24981.782050\u003c/td\u003e\n      \u003ctd\u003e2009.520960\u003c/td\u003e\n      \u003ctd\u003e8.48950\u003c/td\u003e\n      \u003ctd\u003e500044.72656\u003c/td\u003e\n      \u003ctd\u003e2.748945\u003c/td\u003e\n      \u003ctd\u003e2.751780\u003c/td\u003e\n      \u003ctd\u003e2.748225\u003c/td\u003e\n    \u003c/tr\u003e\n    \u003ctr\u003e\n      \u003cth\u003estd\u003c/th\u003e\n      \u003ctd\u003e28867.657797\u003c/td\u003e\n      \u003ctd\u003e14450.407866\u003c/td\u003e\n      \u003ctd\u003e5.776074\u003c/td\u003e\n      \u003ctd\u003e4.04511\u003c/td\u003e\n      \u003ctd\u003e288033.73321\u003c/td\u003e\n      \u003ctd\u003e1.435789\u003c/td\u003e\n      \u003ctd\u003e1.437516\u003c/td\u003e\n      \u003ctd\u003e1.434577\u003c/td\u003e\n    \u003c/tr\u003e\n    \u003ctr\u003e\n      \u003cth\u003emin\u003c/th\u003e\n      \u003ctd\u003e1.000000\u003c/td\u003e\n      \u003ctd\u003e1.000000\u003c/td\u003e\n      \u003ctd\u003e2000.000000\u003c/td\u003e\n      \u003ctd\u003e2.00000\u003c/td\u003e\n      \u003ctd\u003e1009.00000\u003c/td\u003e\n      \u003ctd\u003e0.500000\u003c/td\u003e\n      \u003ctd\u003e0.500000\u003c/td\u003e\n      \u003ctd\u003e0.500000\u003c/td\u003e\n    \u003c/tr\u003e\n    \u003ctr\u003e\n      \u003cth\u003e25%\u003c/th\u003e\n      \u003ctd\u003e25000.750000\u003c/td\u003e\n      \u003ctd\u003e12388.000000\u003c/td\u003e\n      \u003ctd\u003e2004.000000\u003c/td\u003e\n      \u003ctd\u003e5.00000\u003c/td\u003e\n      \u003ctd\u003e251603.50000\u003c/td\u003e\n      \u003ctd\u003e1.500000\u003c/td\u003e\n      \u003ctd\u003e1.500000\u003c/td\u003e\n      \u003ctd\u003e1.500000\u003c/td\u003e\n    \u003c/tr\u003e\n    \u003ctr\u003e\n      \u003cth\u003e50%\u003c/th\u003e\n      \u003ctd\u003e50000.500000\u003c/td\u003e\n      \u003ctd\u003e24940.500000\u003c/td\u003e\n      \u003ctd\u003e2010.000000\u003c/td\u003e\n      \u003ctd\u003e8.00000\u003c/td\u003e\n      \u003ctd\u003e499531.50000\u003c/td\u003e\n      \u003ctd\u003e2.500000\u003c/td\u003e\n      \u003ctd\u003e3.000000\u003c/td\u003e\n      \u003ctd\u003e3.000000\u003c/td\u003e\n    \u003c/tr\u003e\n    \u003ctr\u003e\n      \u003cth\u003e75%\u003c/th\u003e\n      \u003ctd\u003e75000.250000\u003c/td\u003e\n      \u003ctd\u003e37498.250000\u003c/td\u003e\n      \u003ctd\u003e2015.000000\u003c/td\u003e\n      \u003ctd\u003e12.00000\u003c/td\u003e\n      \u003ctd\u003e749354.25000\u003c/td\u003e\n      \u003ctd\u003e4.000000\u003c/td\u003e\n      \u003ctd\u003e4.000000\u003c/td\u003e\n      \u003ctd\u003e4.000000\u003c/td\u003e\n    \u003c/tr\u003e\n    \u003ctr\u003e\n      \u003cth\u003emax\u003c/th\u003e\n      \u003ctd\u003e100000.000000\u003c/td\u003e\n      \u003ctd\u003e50000.000000\u003c/td\u003e\n      \u003ctd\u003e2019.000000\u003c/td\u003e\n      \u003ctd\u003e15.00000\u003c/td\u003e\n      \u003ctd\u003e999994.00000\u003c/td\u003e\n      \u003ctd\u003e5.000000\u003c/td\u003e\n      \u003ctd\u003e5.000000\u003c/td\u003e\n      \u003ctd\u003e5.000000\u003c/td\u003e\n    \u003c/tr\u003e\n  \u003c/tbody\u003e\n\u003c/table\u003e\n\u003c/div\u003e",
                        "text/plain": "                  id      artist_id    year_of_pub  num_of_tracks  \\\ncount  100000.000000  100000.000000  100000.000000   100000.00000   \nmean    50000.500000   24981.782050    2009.520960        8.48950   \nstd     28867.657797   14450.407866       5.776074        4.04511   \nmin         1.000000       1.000000    2000.000000        2.00000   \n25%     25000.750000   12388.000000    2004.000000        5.00000   \n50%     50000.500000   24940.500000    2010.000000        8.00000   \n75%     75000.250000   37498.250000    2015.000000       12.00000   \nmax    100000.000000   50000.000000    2019.000000       15.00000   \n\n       num_of_sales  rolling_stone_critic     mtv_critic  music_maniac_critic  \ncount  100000.00000         100000.000000  100000.000000        100000.000000  \nmean   500044.72656              2.748945       2.751780             2.748225  \nstd    288033.73321              1.435789       1.437516             1.434577  \nmin      1009.00000              0.500000       0.500000             0.500000  \n25%    251603.50000              1.500000       1.500000             1.500000  \n50%    499531.50000              2.500000       3.000000             3.000000  \n75%    749354.25000              4.000000       4.000000             4.000000  \nmax    999994.00000              5.000000       5.000000             5.000000  "
                    },
                    "execution_count": 150,
                    "metadata": {},
                    "output_type": "execute_result"
                }
            ],
            "source": [
                "df.describe()"
            ]
        },
        {
            "attachments": {},
            "cell_type": "markdown",
            "metadata": {},
            "source": [
                "3. Prepare Data"
            ]
        },
        {
            "cell_type": "code",
            "execution_count": 151,
            "metadata": {},
            "outputs": [
                {
                    "data": {
                        "text/html": "\u003cdiv\u003e\n\u003cstyle scoped\u003e\n    .dataframe tbody tr th:only-of-type {\n        vertical-align: middle;\n    }\n\n    .dataframe tbody tr th {\n        vertical-align: top;\n    }\n\n    .dataframe thead th {\n        text-align: right;\n    }\n\u003c/style\u003e\n\u003ctable border=\"1\" class=\"dataframe\"\u003e\n  \u003cthead\u003e\n    \u003ctr style=\"text-align: right;\"\u003e\n      \u003cth\u003e\u003c/th\u003e\n      \u003cth\u003eyear_of_pub\u003c/th\u003e\n      \u003cth\u003erolling_stone_critic\u003c/th\u003e\n    \u003c/tr\u003e\n  \u003c/thead\u003e\n  \u003ctbody\u003e\n    \u003ctr\u003e\n      \u003cth\u003e0\u003c/th\u003e\n      \u003ctd\u003e2006\u003c/td\u003e\n      \u003ctd\u003e4.0\u003c/td\u003e\n    \u003c/tr\u003e\n    \u003ctr\u003e\n      \u003cth\u003e1\u003c/th\u003e\n      \u003ctd\u003e2014\u003c/td\u003e\n      \u003ctd\u003e3.0\u003c/td\u003e\n    \u003c/tr\u003e\n    \u003ctr\u003e\n      \u003cth\u003e2\u003c/th\u003e\n      \u003ctd\u003e2000\u003c/td\u003e\n      \u003ctd\u003e2.5\u003c/td\u003e\n    \u003c/tr\u003e\n    \u003ctr\u003e\n      \u003cth\u003e3\u003c/th\u003e\n      \u003ctd\u003e2017\u003c/td\u003e\n      \u003ctd\u003e1.5\u003c/td\u003e\n    \u003c/tr\u003e\n    \u003ctr\u003e\n      \u003cth\u003e4\u003c/th\u003e\n      \u003ctd\u003e2010\u003c/td\u003e\n      \u003ctd\u003e4.5\u003c/td\u003e\n    \u003c/tr\u003e\n    \u003ctr\u003e\n      \u003cth\u003e...\u003c/th\u003e\n      \u003ctd\u003e...\u003c/td\u003e\n      \u003ctd\u003e...\u003c/td\u003e\n    \u003c/tr\u003e\n    \u003ctr\u003e\n      \u003cth\u003e99995\u003c/th\u003e\n      \u003ctd\u003e2016\u003c/td\u003e\n      \u003ctd\u003e2.5\u003c/td\u003e\n    \u003c/tr\u003e\n    \u003ctr\u003e\n      \u003cth\u003e99996\u003c/th\u003e\n      \u003ctd\u003e2013\u003c/td\u003e\n      \u003ctd\u003e5.0\u003c/td\u003e\n    \u003c/tr\u003e\n    \u003ctr\u003e\n      \u003cth\u003e99997\u003c/th\u003e\n      \u003ctd\u003e2018\u003c/td\u003e\n      \u003ctd\u003e2.0\u003c/td\u003e\n    \u003c/tr\u003e\n    \u003ctr\u003e\n      \u003cth\u003e99998\u003c/th\u003e\n      \u003ctd\u003e2007\u003c/td\u003e\n      \u003ctd\u003e4.0\u003c/td\u003e\n    \u003c/tr\u003e\n    \u003ctr\u003e\n      \u003cth\u003e99999\u003c/th\u003e\n      \u003ctd\u003e2014\u003c/td\u003e\n      \u003ctd\u003e3.5\u003c/td\u003e\n    \u003c/tr\u003e\n  \u003c/tbody\u003e\n\u003c/table\u003e\n\u003cp\u003e100000 rows × 2 columns\u003c/p\u003e\n\u003c/div\u003e",
                        "text/plain": "       year_of_pub  rolling_stone_critic\n0             2006                   4.0\n1             2014                   3.0\n2             2000                   2.5\n3             2017                   1.5\n4             2010                   4.5\n...            ...                   ...\n99995         2016                   2.5\n99996         2013                   5.0\n99997         2018                   2.0\n99998         2007                   4.0\n99999         2014                   3.5\n\n[100000 rows x 2 columns]"
                    },
                    "execution_count": 151,
                    "metadata": {},
                    "output_type": "execute_result"
                }
            ],
            "source": [
                "# Run this section to inspect X\n",
                "X = df.drop(columns = ['num_of_tracks', 'id', 'artist_id', 'album_title','num_of_sales', 'genre', 'music_maniac_critic'])\n",
                "X"
            ]
        },
        {
            "cell_type": "code",
            "execution_count": 152,
            "metadata": {},
            "outputs": [
                {
                    "data": {
                        "text/plain": "0               Folk\n1              Metal\n2             Latino\n3                Pop\n4        Black Metal\n            ...     \n99995       Pop-Rock\n99996          Retro\n99997          Indie\n99998            Pop\n99999           Rock\nName: genre, Length: 100000, dtype: object"
                    },
                    "execution_count": 152,
                    "metadata": {},
                    "output_type": "execute_result"
                }
            ],
            "source": [
                "# Uncomment this section to inpect y\n",
                "y = df['genre']\n",
                "y"
            ]
        },
        {
            "cell_type": "code",
            "execution_count": 153,
            "metadata": {},
            "outputs": [
                {
                    "name": "stderr",
                    "output_type": "stream",
                    "text": "/usr/lib/python3.9/site-packages/sklearn/base.py:441: UserWarning: X does not have valid feature names, but DecisionTreeClassifier was fitted with feature names\n  warnings.warn(\n"
                },
                {
                    "data": {
                        "text/plain": "array(['Indie'], dtype=object)"
                    },
                    "execution_count": 153,
                    "metadata": {},
                    "output_type": "execute_result"
                }
            ],
            "source": [
                "model = DecisionTreeClassifier()\n",
                "model.fit(X, y)\n",
                "predictions = model.predict([[2014,4]])\n",
                "predictions"
            ]
        },
        {
            "attachments": {},
            "cell_type": "markdown",
            "metadata": {},
            "source": [
                "4. Calculate accuracy"
            ]
        },
        {
            "cell_type": "code",
            "execution_count": 154,
            "metadata": {},
            "outputs": [
                {
                    "data": {
                        "text/plain": "0.09025"
                    },
                    "execution_count": 154,
                    "metadata": {},
                    "output_type": "execute_result"
                }
            ],
            "source": [
                "# Train 80% of the data set and use the rest to test\n",
                "X_train, X_test, y_train, y_test = train_test_split(\n",
                "                                    X, y, test_size=0.2)\n",
                "\n",
                "model = DecisionTreeClassifier()\n",
                "model.fit(X_train, y_train)\n",
                "predictions = model.predict(X_test)\n",
                "\n",
                "# Compute model accuracy\n",
                "score = accuracy_score(y_test, predictions)\n",
                "score\n",
                ""
            ]
        },
        {
            "attachments": {},
            "cell_type": "markdown",
            "metadata": {},
            "source": [
                "5. Persisting Models"
            ]
        },
        {
            "cell_type": "code",
            "execution_count": 155,
            "metadata": {},
            "outputs": [
                {
                    "data": {
                        "text/plain": "['MODELNAME.joblib']"
                    },
                    "execution_count": 155,
                    "metadata": {},
                    "output_type": "execute_result"
                }
            ],
            "source": [
                "# Save the model to file\n",
                "joblib.dump(model, 'MODELNAME.joblib')\n",
                ""
            ]
        },
        {
            "attachments": {},
            "cell_type": "markdown",
            "metadata": {},
            "source": [
                "5.b. Import the model and make predictions"
            ]
        },
        {
            "cell_type": "code",
            "execution_count": 156,
            "metadata": {},
            "outputs": [
                {
                    "data": {
                        "text/plain": "array(['Indie', 'Indie', 'Indie', ..., 'Indie', 'Indie', 'Indie'],\n      dtype=object)"
                    },
                    "execution_count": 156,
                    "metadata": {},
                    "output_type": "execute_result"
                }
            ],
            "source": [
                "# Load saved model. Make sure that you have run the previous\n",
                "# section at least once, and that the file exists.\n",
                "\n",
                "model = joblib.load('MODELNAME.joblib')\n",
                "predictions = model.predict(X_test)\n",
                "predictions"
            ]
        },
        {
            "attachments": {},
            "cell_type": "markdown",
            "metadata": {},
            "source": [
                "6. (Optional) Visualize decision trees"
            ]
        },
        {
            "cell_type": "code",
            "execution_count": 157,
            "metadata": {},
            "outputs": [],
            "source": [
                "tree.export_graphviz(model, out_file = 'MODELNAME.joblib',\n",
                "                    feature_names = X.columns, \n",
                "                    class_names = str(sorted(y.unique())), \n",
                "                    label = 'all',\n",
                "                    rounded = True, \n",
                "                    filled = True)\n",
                "\n",
                "#Download the file music-recommender.dot and open it in VS Code.\n",
                ""
            ]
        }
    ]
}
